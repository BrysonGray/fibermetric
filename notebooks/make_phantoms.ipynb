{
 "cells": [
  {
   "cell_type": "code",
   "execution_count": 2,
   "metadata": {},
   "outputs": [],
   "source": [
    "%load_ext autoreload\n",
    "%autoreload 2\n",
    "%matplotlib widget"
   ]
  },
  {
   "cell_type": "code",
   "execution_count": 3,
   "metadata": {},
   "outputs": [],
   "source": [
    "from os import listdir\n",
    "from os.path import join\n",
    "import os\n",
    "import matplotlib.pyplot as plt\n",
    "from dipy.core.sphere import disperse_charges, HemiSphere\n",
    "import numpy as np\n",
    "import pandas as pd\n",
    "import cProfile\n",
    "from tqdm import tqdm\n",
    "from tqdm.contrib import itertools as tqdm_itertools\n",
    "from scipy.ndimage import gaussian_filter\n",
    "\n",
    "import sys\n",
    "sys.path.insert(0,'../fibermetric/')\n",
    "import sta_validate\n",
    "import histology\n",
    "import apsym_kmeans"
   ]
  },
  {
   "attachments": {},
   "cell_type": "markdown",
   "metadata": {},
   "source": [
    "## set parameters for 3D phantoms"
   ]
  },
  {
   "cell_type": "code",
   "execution_count": 4,
   "metadata": {},
   "outputs": [],
   "source": [
    "shapes = [(72,72,72), (36,72,72), (24,72,72), (18,72,72), (14,72,72), (12,72,72), (10,72,72), (9,72,72)]\n",
    "AI = [d[1]/d[0] for d in shapes]\n",
    "periods = [7,10,13]\n",
    "root = '../outputs/sta_validate_outputs/phantoms/phantoms-72/'\n",
    "os.makedirs(root, exist_ok=True)"
   ]
  },
  {
   "cell_type": "code",
   "execution_count": null,
   "metadata": {},
   "outputs": [],
   "source": [
    "# get angles evenly distributed over a hemisphere\n",
    "\n",
    "n_pts = 100\n",
    "theta = np.pi - np.random.rand(n_pts)\n",
    "phi = 2 * np.pi - np.random.rand(n_pts)\n",
    "v_initial = HemiSphere(theta=theta, phi=phi)\n",
    "v_updated, potential = disperse_charges(v_initial, 20000, const=0.1)\n",
    "vertices = v_updated.vertices\n",
    "plt.plot(potential)\n",
    "plt.show()\n",
    "angles = np.array([np.arccos(vertices[:,0]), np.arctan2(vertices[:,2],vertices[:,1])]).T\n",
    "\n",
    "\n",
    "# thetas = np.linspace(0,np.pi/2,5)\n",
    "# phis = np.linspace(0, np.pi/2, 5)\n",
    "# angles = np.empty((5,5,2))\n",
    "# for i in range(len(thetas)):\n",
    "#     for j in range(len(phis)):\n",
    "#         angles[i,j] = [thetas[i], phis[-(j+1)]]\n",
    "# angles = angles.reshape(-1,2)[4:]\n",
    "# print(angles)"
   ]
  },
  {
   "cell_type": "code",
   "execution_count": null,
   "metadata": {},
   "outputs": [],
   "source": [
    "# this should give us close to 25 points per quadrant if it's distributed uniformly. \n",
    "octant0 = [a for a in angles if np.all(a <= np.pi/2) and np.all(a >= 0.0)]\n",
    "print(len(octant0))\n",
    "octant1 = [a for a in angles if a[0] <= np.pi/2 and a[1] >= np.pi/2]\n",
    "print(len(octant1))\n",
    "octant2 = [a for a in angles if a[0] >= np.pi/2 and a[1] <= np.pi/2]\n",
    "print(len(octant2))\n",
    "octant3 = [a for a in angles if a[0] >= np.pi/2 and a[1] >= np.pi/2]\n",
    "print(len(octant3))\n",
    "print(np.std(np.array([len(octant0),len(octant1),len(octant2),len(octant3)])))\n",
    "print(len(angles))\n",
    "print(potential[-1])\n",
    "# np.save('../outputs/sta_validate_outputs/angles.npy', angles)"
   ]
  },
  {
   "cell_type": "code",
   "execution_count": null,
   "metadata": {},
   "outputs": [],
   "source": [
    "angles = np.load('../outputs/sta_validate_outputs/angles.npy')"
   ]
  },
  {
   "cell_type": "code",
   "execution_count": null,
   "metadata": {},
   "outputs": [],
   "source": [
    "for i in tqdm(range(len(shapes))):\n",
    "    n = shapes[i]\n",
    "    d = (n[1]/n[0], 1.0, 1.0)\n",
    "    x = [np.arange(ni)*di for ni,di in zip(n,d)]\n",
    "\n",
    "    for j,k in tqdm_itertools.product(range(len(periods)), range(len(angles))):\n",
    "            p = periods[j]\n",
    "            angle = angles[k]\n",
    "            image = sta_validate.make_phantom(x,[angle], p)\n",
    "            # save image\n",
    "            name = f'phantom_AI-{d[0]:.2f}_period-{p:02d}_theta-{angle[0]:.2f}_phi-{angle[1]:.2f}'\n",
    "            print(f'saving {root+name}')\n",
    "            np.savez(join(root,name), image=image, AI=d[0], period=p, angle=angle)"
   ]
  },
  {
   "attachments": {},
   "cell_type": "markdown",
   "metadata": {},
   "source": [
    "## Add images for two angle phantoms"
   ]
  },
  {
   "attachments": {},
   "cell_type": "markdown",
   "metadata": {},
   "source": [
    "### first get all pair combinations. (n_angles choose 2 pairs) then choose a random subset of 100"
   ]
  },
  {
   "cell_type": "code",
   "execution_count": null,
   "metadata": {},
   "outputs": [],
   "source": [
    "angle_pairs = [(a, b, a_idx, b_idx + a_idx + 1) for a_idx, a in enumerate(angles) for b_idx, b in enumerate(angles[a_idx+1:])]\n",
    "angle_pair_ids = np.array([a[2:] for a in angle_pairs])\n",
    "angle_pairs = np.array([a[:2] for a in angle_pairs])\n",
    "\n",
    "ids = np.random.choice(len(angle_pairs), size=100, replace=False)\n",
    "\n",
    "angle_pairs = angle_pairs[ids]\n",
    "angle_pair_ids = angle_pair_ids[ids]\n",
    "print(angle_pairs.shape)\n",
    "print(angle_pair_ids.shape)"
   ]
  },
  {
   "attachments": {},
   "cell_type": "markdown",
   "metadata": {},
   "source": [
    "## how are delta angles distributed?"
   ]
  },
  {
   "cell_type": "code",
   "execution_count": null,
   "metadata": {},
   "outputs": [],
   "source": [
    "direction_pairs = np.array([np.cos(angle_pairs[:,:,0]),\n",
    "                            np.sin(angle_pairs[:,:,0])*np.cos(angle_pairs[:,:,1]),\n",
    "                            np.sin(angle_pairs[:,:,0])*np.sin(angle_pairs[:,:,1])]).transpose(1,2,0)\n",
    "print(direction_pairs.shape)\n",
    "\n",
    "deltas = np.arccos(np.abs((direction_pairs[:,None,0] @ direction_pairs[:,1,...,None])[:,0,0]))\n",
    "\n",
    "print(f'deltas min: {deltas.min()}, max: {deltas.max()}')\n",
    "plt.hist(deltas)\n",
    "plt.plot(np.ones(100)*np.mean(deltas), np.linspace(0,20,100), label='mean')\n",
    "plt.plot(np.ones(100)*np.pi/4, np.linspace(0,20,100), label='center')\n",
    "plt.legend()\n",
    "plt.show()"
   ]
  },
  {
   "cell_type": "code",
   "execution_count": null,
   "metadata": {},
   "outputs": [],
   "source": [
    "# np.save('../outputs/sta_validate_outputs/angle_pairs', angle_pairs)"
   ]
  },
  {
   "attachments": {},
   "cell_type": "markdown",
   "metadata": {},
   "source": [
    "## save two angle phantoms"
   ]
  },
  {
   "cell_type": "code",
   "execution_count": null,
   "metadata": {},
   "outputs": [],
   "source": [
    "angle_pairs = np.load('../outputs/sta_validate_outputs/angle_pairs.npy')"
   ]
  },
  {
   "cell_type": "code",
   "execution_count": null,
   "metadata": {},
   "outputs": [],
   "source": [
    "for i,d in enumerate(AI):\n",
    "    n = shapes[i]\n",
    "    dx = (n[1]/n[0], 1.0, 1.0)\n",
    "    x = [np.arange(ni)*di for ni,di in zip(n,dx)]\n",
    "    for p in periods:\n",
    "        for a in angle_pairs:\n",
    "            img = sta_validate.make_phantom(x, a, p)\n",
    "            name = f'phantom_AI-{d:.2f}_period-{p:02d}_theta-{a[0,0]:.2f}-{a[1,0]:.2f}_phi-{a[0,1]:.2f}-{a[1,1]:.2f}'\n",
    "            np.savez(join(root,name), image=img, AI=d, period=p, angle=a)"
   ]
  },
  {
   "cell_type": "code",
   "execution_count": null,
   "metadata": {},
   "outputs": [],
   "source": [
    "for d in AI:\n",
    "    for p in periods:\n",
    "        for a in angle_pairs:\n",
    "            files = listdir(root)\n",
    "            I_file = [f for f in files if f.split('theta-')[1][:4]==f'{a[0,0]:.2f}' and f.split('phi-')[1][:4]==f'{a[0,1]:.2f}' and f.split('AI-')[1][:4]==f'{d:.2f}' and f.split('period-')[1][:2]==f'{p:02d}'][0]\n",
    "            J_file = [f for f in files if f.split('theta-')[1][:4]==f'{a[1,0]:.2f}' and f.split('phi-')[1][:4]==f'{a[1,1]:.2f}' and f.split('AI-')[1][:4]==f'{d:.2f}' and f.split('period-')[1][:2]==f'{p:02d}'][0]\n",
    "            I = np.load(join(root,I_file))['image']\n",
    "            J = np.load(join(root,J_file))['image']\n",
    "            new_phantom = I + J\n",
    "            name = f'phantom_AI-{d:.2f}_period-{p:02d}_theta-{a[0,0]:.2f}-{a[1,0]:.2f}_phi-{a[0,1]:.2f}-{a[1,1]:.2f}'\n",
    "            np.savez(join(root,name), image=new_phantom, AI=d, period=p, angle=a)"
   ]
  },
  {
   "attachments": {},
   "cell_type": "markdown",
   "metadata": {},
   "source": [
    "## Make phantoms with isotropic blur"
   ]
  },
  {
   "cell_type": "code",
   "execution_count": null,
   "metadata": {},
   "outputs": [],
   "source": [
    "# add isotropic blur to phantoms\n",
    "out = '../outputs/sta_validate_outputs/phantoms/phantoms-72-iso-blur/'\n",
    "files = listdir(root)\n",
    "for f in tqdm(files):\n",
    "    npz = np.load(join(root,f))\n",
    "    image = npz['image']\n",
    "    AI = npz['AI']\n",
    "    period = npz['period']\n",
    "    angle = npz['angle']\n",
    "    dI = [float(AI), 1.0, 1.0]\n",
    "    blur_factor = np.sqrt(dI[0]**2 - 1.0)\n",
    "    new_image = gaussian_filter(image, sigma=[0.0, blur_factor, blur_factor])\n",
    "    if angle.ndim == 1:\n",
    "        name = f'phantom_AI-{AI:.2f}_period-{period:02d}_theta-{angle[0]:.2f}_phi-{angle[1]:.2f}'\n",
    "    else:\n",
    "        name = f'phantom_AI-{AI:.2f}_period-{period:02d}_theta-{angle[0,0]:.2f}-{angle[1,0]:.2f}_phi-{angle[0,1]:.2f}-{angle[1,1]:.2f}'\n",
    "    np.savez(join(out,name), image=new_image, AI=AI, period=period, angle=angle)"
   ]
  },
  {
   "attachments": {},
   "cell_type": "markdown",
   "metadata": {},
   "source": [
    "# 2D Phantoms"
   ]
  },
  {
   "attachments": {},
   "cell_type": "markdown",
   "metadata": {},
   "source": [
    "## Set Parameters"
   ]
  },
  {
   "cell_type": "code",
   "execution_count": null,
   "metadata": {},
   "outputs": [],
   "source": [
    "shapes = [(96,96,96), (48,96,96), (32,96,96), (24,96,96), (19,96,96), (16,96,96), (14,96,96), (12,96,96)]\n",
    "AI = [d[1]/d[0] for d in shapes]\n",
    "periods = [7,10,13]\n",
    "thetas = np.linspace(0,np.pi/2,100)\n",
    "\n",
    "root = '../outputs/sta_validate_outputs/phantoms/phantoms_2d-96/'\n",
    "\n",
    "\n"
   ]
  },
  {
   "cell_type": "code",
   "execution_count": null,
   "metadata": {},
   "outputs": [],
   "source": [
    "theta_pairs = [(a, b) for idx, a in enumerate(thetas) for b in thetas[idx+1:]]\n",
    "ids = np.random.choice(len(theta_pairs), size=100, replace=False)\n",
    "theta_pairs = np.array(theta_pairs)[ids]\n",
    "# np.save('../outputs/sta_validate_outputs/theta_pairs', theta_pairs)"
   ]
  },
  {
   "cell_type": "code",
   "execution_count": null,
   "metadata": {},
   "outputs": [],
   "source": [
    "for i in tqdm(range(len(shapes))):\n",
    "    n = shapes[i]\n",
    "    d = (n[1]/n[0], 1.0)\n",
    "    x = [np.arange(ni)*di for ni,di in zip(n,d)]\n",
    "\n",
    "    for j,k in tqdm_itertools.product(range(len(periods)), range(len(thetas))):\n",
    "            p = periods[j]\n",
    "            angle = thetas[k]\n",
    "            image = sta_validate.make_phantom(x,[angle], p)\n",
    "            # save image\n",
    "            name = f'phantom_AI-{d[0]:.2f}_period-{p:02d}_theta-{angle:.2f}'\n",
    "            # print(f'saving {root+name}')\n",
    "            np.savez(join(root,name), image=image, AI=d[0], period=p, angle=angle)"
   ]
  },
  {
   "cell_type": "code",
   "execution_count": null,
   "metadata": {},
   "outputs": [],
   "source": [
    "theta_pairs = np.load('../outputs/sta_validate_outputs/theta_pairs.npy')\n",
    "for i in tqdm(range(len(shapes))):\n",
    "    n = shapes[i]\n",
    "    d = (n[1]/n[0], 1.0)\n",
    "    x = [np.arange(ni)*di for ni,di in zip(n,d)]\n",
    "\n",
    "    for j,k in tqdm_itertools.product(range(len(periods)), range(len(theta_pairs))):\n",
    "            p = periods[j]\n",
    "            angle = theta_pairs[k]\n",
    "            image = sta_validate.make_phantom(x,angle, p)\n",
    "            # save image\n",
    "            name = f'phantom_AI-{d[0]:.2f}_period-{p:02d}_theta-{angle[0]:.2f}-{angle[1]:.2f}'\n",
    "            # print(f'saving {root+name}')\n",
    "            np.savez(join(root,name), image=image, AI=d[0], period=p, angle=angle)"
   ]
  },
  {
   "cell_type": "code",
   "execution_count": null,
   "metadata": {},
   "outputs": [],
   "source": [
    "len(files)"
   ]
  },
  {
   "cell_type": "code",
   "execution_count": null,
   "metadata": {},
   "outputs": [],
   "source": [
    "# add isotropic blur to phantoms\n",
    "out = '../outputs/sta_validate_outputs/phantoms/phantoms_2d-96-iso-blur/'\n",
    "files = listdir(root)\n",
    "for f in tqdm(files):\n",
    "    npz = np.load(join(root,f))\n",
    "    image = npz['image']\n",
    "    AI = npz['AI']\n",
    "    period = npz['period']\n",
    "    angle = npz['angle']\n",
    "    blur_factor = np.sqrt(float(AI)**2 - 1.0)\n",
    "    new_image = gaussian_filter(image, sigma=[0., blur_factor])\n",
    "    if angle.ndim == 0:\n",
    "        name = f'phantom_AI-{AI:.2f}_period-{period:02d}_theta-{angle:.2f}'\n",
    "    else:\n",
    "        name = f'phantom_AI-{AI:.2f}_period-{period:02d}_theta-{angle[0]:.2f}-{angle[1]:.2f}'\n",
    "    np.savez(join(out,name), image=new_image, AI=AI, period=period, angle=angle)"
   ]
  },
  {
   "attachments": {},
   "cell_type": "markdown",
   "metadata": {},
   "source": [
    "# Structure Tensor Analysis on premade phantoms"
   ]
  },
  {
   "cell_type": "code",
   "execution_count": null,
   "metadata": {},
   "outputs": [],
   "source": [
    "derivative_sigmas = np.linspace(start=0.15, stop=2.5, num=10)\n",
    "tensor_sigmas = np.linspace(start=0.0, stop=10.0, num=10)\n",
    "print(derivative_sigmas)\n",
    "print(tensor_sigmas)\n",
    "print(thetas)"
   ]
  },
  {
   "cell_type": "code",
   "execution_count": null,
   "metadata": {},
   "outputs": [],
   "source": [
    "# name = root+'phantom_AI-1.00_period-8_theta-0.00-0.39_phi-0.00.npy'\n",
    "name = root+'phantom_AI-1.00_period-12_theta-0.00-1.57_phi-0.00.npy'\n",
    "phantom = np.load(name)\n",
    "d = 2\n",
    "t = 1\n",
    "with cProfile.Profile() as pr:\n",
    "    error = sta_validate.sta_test(phantom, derivative_sigmas[d], tensor_sigmas[t], true_thetas=[(0.0,0.0), (thetas[4],0.0)])\n",
    "    print(error)/home/brysongray\n",
    "    pr.print_stats(sort='tottime')"
   ]
  },
  {
   "cell_type": "code",
   "execution_count": null,
   "metadata": {},
   "outputs": [],
   "source": [
    "fig,ax = plt.subplots(3)\n",
    "ax[0].imshow(phantom[36,:,:])\n",
    "ax[1].imshow(phantom[:,36,:])\n",
    "ax[2].imshow(phantom[:,:,36])"
   ]
  },
  {
   "cell_type": "code",
   "execution_count": null,
   "metadata": {},
   "outputs": [],
   "source": [
    "phi1_phantoms = [f for f in listdir(root) if f.split('phi-')[1][:4]=='0.39']\n",
    "print(len(phi1_phantoms))"
   ]
  },
  {
   "cell_type": "code",
   "execution_count": null,
   "metadata": {},
   "outputs": [],
   "source": [
    "# run structure tensor analysis for every phantom\n",
    "# I need to get the actual parameter values given the rounded values in the file name\n",
    "error_df = pd.DataFrame({'derivative_sigma':[], 'tensor_sigma':[], 'AI':[], 'period':[],\n",
    "                         'width':[], 'angles':[], 'error':[]})\n",
    "d = np.array([n[1]/n[0] for n in shapes])\n",
    "for f in listdir(root):\n",
    "    AI_ = float(f.split('AI-')[1][:4])\n",
    "    AI = d[np.argmin(np.abs(d - AI_))]\n",
    "    period = int(f.split('period-')[1][:2])\n",
    "    phi_ = float(f.split('phi-')[1][:4])\n",
    "    phi = phis[np.argmin(np.abs(phis - phi_))]\n",
    "    theta_ = f.split('theta-')[1][:9].split('-')\n",
    "    if len(theta_[1]) == 0:\n",
    "        theta = thetas[np.argmin(np.abs(thetas - float(theta_[0][:4])))]\n",
    "        angles = [(theta, phi)]\n",
    "    else:\n",
    "        theta = [thetas[np.argmin(np.abs(thetas - float(theta_[0][:4])))],\n",
    "                  thetas[np.argmin(np.abs(thetas - float(theta_[1][:4])))]]\n",
    "        angles = [(theta[0], phi), (theta[1], phi)]\n",
    "    \n",
    "    # phantom = np.load(root+f)\n",
    "    for sigma0 in derivative_sigmas:\n",
    "        for sigma1 in tensor_sigmas:\n",
    "            # error = sta_validate.sta_test(phantom, sigma0, sigma1, true_thetas=angles)\n",
    "            new_row = {'derivative_sigma': sigma0, 'tensor_sigma': sigma1, 'AI': AI, 'period': period, 'width': 1, 'angles': [angles], 'error': 0}\n",
    "            error_df = pd.concat([error_df, pd.DataFrame(new_row)], ignore_index=True)\n",
    "\n",
    "    \n"
   ]
  },
  {
   "cell_type": "code",
   "execution_count": null,
   "metadata": {},
   "outputs": [],
   "source": [
    "# 2d\n",
    "root = '../outputs/sta_validate_outputs/phantoms/phantoms_2d-96/'\n",
    "files = os.listdir(root)\n",
    "# one angle\n",
    "# file = files[0]\n",
    "# two angles\n",
    "file = files[2]\n",
    "\n",
    "# # 3d\n",
    "# root = '../outputs/sta_validate_outputs/phantoms/phantoms-72_v2/'\n",
    "# files = os.listdir(root)\n",
    "# # one angle\n",
    "# file = files[3]\n",
    "# # two angles\n",
    "# # file = files[0]\n",
    "\n",
    "# print(file)\n",
    "# # npz = np.load(join(root, files[3]))\n",
    "# npz = np.load(join(root, file))\n",
    "# phantom = npz['image']\n",
    "# AI = npz['AI']\n",
    "# period = npz['period']\n",
    "# angle = npz['angle']\n",
    "# # angle = np.array([angle])\n",
    "# print(angle)\n",
    "# error_df = pd.DataFrame({'derivative_sigma':[], 'tensor_sigma':[], 'AI':[], 'period':[],\n",
    "#                         'width':[], 'angles':[], 'error':[]})\n",
    "# sigma0 = 1.0\n",
    "# sigma1 = 1.0\n",
    "# error = sta_validate.sta_test(phantom, derivative_sigma=sigma0, tensor_sigma=sigma1, true_thetas=angle, crop=12)\n",
    "\n",
    "# new_row = {'derivative_sigma': sigma0, 'tensor_sigma': sigma1,\n",
    "#                         'AI': AI, 'period': period, 'width': 1,\n",
    "#                         'angles': [angle], 'error': error}\n",
    "# error_df = pd.concat((error_df, pd.DataFrame(new_row)), ignore_index=True)\n",
    "\n",
    "# # save dataframe using pickle\n",
    "# if phantom.ndim == 2:\n",
    "#     if angle.ndim == 0:\n",
    "#         name = f'error_AI-{AI:.2f}_period-{period:02d}_theta-{angle:.2f}.p'\n",
    "#     else:\n",
    "#         name = f'error_AI-{AI:.2f}_period-{period:02d}_theta-{angle[0]:.2f}-{angle[1]:.2f}.p'\n",
    "\n",
    "# if phantom.ndim == 3:\n",
    "#     if angle.ndim == 1:\n",
    "#             name = f'error_AI-{AI:.2f}_period-{period:02d}_theta-{angle[0]:.2f}_phi-{angle[1]:.2f}.p'\n",
    "#     else:\n",
    "#         name = f'error_AI-{AI:.2f}_period-{period:02d}_theta-{angle[0,0]:.2f}-{angle[1,0]:.2f}_phi-{angle[0,1]:.2f}-{angle[1,1]:.2f}.p'\n",
    "\n",
    "# print(f'saving {name}')\n"
   ]
  },
  {
   "cell_type": "code",
   "execution_count": null,
   "metadata": {},
   "outputs": [],
   "source": [
    "plt.close('all')"
   ]
  },
  {
   "cell_type": "code",
   "execution_count": null,
   "metadata": {},
   "outputs": [],
   "source": [
    "n = (72, 72, 72)\n",
    "d = (1.0, 1.0, 1.0)\n",
    "x = [np.arange(ni)*di for ni, di in zip(n, d)]\n",
    "thetas = np.array([np.pi/3, 0.0])\n",
    "img = sta_validate.make_phantom(x, [thetas], period=7)\n",
    "\n",
    "plt.figure()\n",
    "plt.imshow(img[...,36])"
   ]
  },
  {
   "cell_type": "code",
   "execution_count": null,
   "metadata": {},
   "outputs": [],
   "source": [
    "sigma0 = 1.0\n",
    "sigma1 = 5.0\n",
    "S = histology.structure_tensor(img, derivative_sigma=sigma0, tensor_sigma=sigma1, dI=d, masked=False)\n",
    "angles = histology.angles(S, cartesian=True)\n",
    "fig, ax = plt.subplots(1,3)\n",
    "ax[0].imshow(angles[...,36,0], cmap='hsv')\n",
    "ax[1].imshow(angles[...,36,1], cmap='hsv')\n",
    "ax[2].imshow(angles[...,36,2], cmap='hsv')"
   ]
  },
  {
   "cell_type": "code",
   "execution_count": null,
   "metadata": {},
   "outputs": [],
   "source": [
    "# convert true_thetas to cartesian coordinates for easier error calculation\n",
    "true_thetas = np.array(thetas)\n",
    "if true_thetas.ndim == 1:\n",
    "    true_thetas = np.array([np.sin(true_thetas[0])*np.sin(true_thetas[1]),\n",
    "                                    np.sin(true_thetas[0])*np.cos(true_thetas[1]),\n",
    "                                    np.cos(true_thetas[0])\n",
    "                                    ])\n",
    "    skm = apsym_kmeans.APSymKMeans(n_clusters=1)\n",
    "elif true_thetas.ndim == 2:\n",
    "    true_thetas = np.array([np.sin(true_thetas[:,0])*np.sin(true_thetas[:,1]),\n",
    "                                    np.sin(true_thetas[:,0])*np.cos(true_thetas[:,1]),\n",
    "                                    np.cos(true_thetas[:,0])\n",
    "                                    ]).T\n",
    "    skm = apsym_kmeans.APSymKMeans(n_clusters=2)\n",
    "\n",
    "angles_ = angles.reshape(-1,3)\n",
    "skm.fit(angles_)\n",
    "mu_ = skm.cluster_centers_"
   ]
  },
  {
   "cell_type": "code",
   "execution_count": null,
   "metadata": {},
   "outputs": [],
   "source": [
    "print(mu_)\n",
    "diff = np.arccos(np.abs(mu_.dot(true_thetas))) * 180/np.pi \n",
    "print(diff)"
   ]
  },
  {
   "cell_type": "code",
   "execution_count": null,
   "metadata": {},
   "outputs": [],
   "source": [
    "error = sta_validate.sta_test(img, sigma0, sigma1, true_thetas=thetas, crop=12)"
   ]
  },
  {
   "cell_type": "code",
   "execution_count": null,
   "metadata": {},
   "outputs": [],
   "source": [
    "error"
   ]
  },
  {
   "cell_type": "code",
   "execution_count": null,
   "metadata": {},
   "outputs": [],
   "source": []
  }
 ],
 "metadata": {
  "kernelspec": {
   "display_name": "fibermetric",
   "language": "python",
   "name": "python3"
  },
  "language_info": {
   "codemirror_mode": {
    "name": "ipython",
    "version": 3
   },
   "file_extension": ".py",
   "mimetype": "text/x-python",
   "name": "python",
   "nbconvert_exporter": "python",
   "pygments_lexer": "ipython3",
   "version": "3.9.13"
  },
  "orig_nbformat": 4
 },
 "nbformat": 4,
 "nbformat_minor": 2
}
