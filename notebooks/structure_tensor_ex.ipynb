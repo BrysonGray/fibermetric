{
 "cells": [
  {
   "cell_type": "code",
   "execution_count": 2,
   "metadata": {},
   "outputs": [
    {
     "name": "stdout",
     "output_type": "stream",
     "text": [
      "The autoreload extension is already loaded. To reload it, use:\n",
      "  %reload_ext autoreload\n"
     ]
    }
   ],
   "source": [
    "%load_ext autoreload\n",
    "%autoreload 2"
   ]
  },
  {
   "cell_type": "code",
   "execution_count": 6,
   "metadata": {},
   "outputs": [],
   "source": [
    "import sys\n",
    "sys.path.insert(0, '/Users/brysongray/git_repos/fibermetric/')\n",
    "from fibermetric import histology, sta_validate\n",
    "import numpy as np\n",
    "import matplotlib.pyplot as plt\n",
    "%matplotlib widget\n",
    "from scipy.ndimage import gaussian_filter,sobel,correlate1d,gaussian_filter1d\n",
    "import cv2\n",
    "import scipy\n",
    "import itertools"
   ]
  },
  {
   "cell_type": "code",
   "execution_count": 35,
   "metadata": {},
   "outputs": [
    {
     "name": "stdout",
     "output_type": "stream",
     "text": [
      "[[[0. 0. 0.]\n",
      "  [0. 0. 0.]\n",
      "  [0. 0. 0.]]]\n",
      "[[[1. 0. 0.]\n",
      "  [0. 1. 0.]\n",
      "  [0. 0. 1.]]]\n"
     ]
    }
   ],
   "source": [
    "arr = np.zeros((1,3,3))\n",
    "print(arr)\n",
    "points = np.array([(0,0,0),(0,1,1),(0,2,2)])\n",
    "z,y,x = np.array_split(points, 3, axis=1)\n",
    "# print(points)\n",
    "arr[z,y,x] = 1.0\n",
    "print(arr)"
   ]
  },
  {
   "cell_type": "code",
   "execution_count": 38,
   "metadata": {},
   "outputs": [
    {
     "data": {
      "text/plain": [
       "<matplotlib.image.AxesImage at 0x1a13d5990>"
      ]
     },
     "execution_count": 38,
     "metadata": {},
     "output_type": "execute_result"
    },
    {
     "data": {
      "application/vnd.jupyter.widget-view+json": {
       "model_id": "761f06c068c44365b0b934bfc188e12a",
       "version_major": 2,
       "version_minor": 0
      },
      "image/png": "[encoded data removed]",
      "text/html": [
       "\n",
       "            <div style=\"display: inline-block;\">\n",
       "                <div class=\"jupyter-widgets widget-label\" style=\"text-align: center;\">\n",
       "                    Figure\n",
       "                </div>\n",
       "                <img src='data:image/png;base64,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' width=640.0/>\n",
       "            </div>\n",
       "        "
      ],
      "text/plain": [
       "Canvas(toolbar=Toolbar(toolitems=[('Home', 'Reset original view', 'home', 'home'), ('Back', 'Back to previous …"
      ]
     },
     "metadata": {},
     "output_type": "display_data"
    }
   ],
   "source": [
    "image = np.zeros((5,100,100))\n",
    "image = sta_validate.draw_line_3D(image, (2,0,0), (2,99,99))\n",
    "plt.figure()\n",
    "plt.imshow(image[2])"
   ]
  },
  {
   "attachments": {},
   "cell_type": "markdown",
   "metadata": {},
   "source": [
    "## Test circle drawing methods"
   ]
  },
  {
   "cell_type": "code",
   "execution_count": null,
   "metadata": {},
   "outputs": [],
   "source": [
    "def circle(img, dI, radius, sigma):\n",
    "    \"\"\" draw a circle centered at the image center with arbitrary pixel dimensions.\n",
    "\n",
    "    Parameters\n",
    "    ----------\n",
    "    img : array\n",
    "    dI : list or tuple\n",
    "        pixel dimensions\n",
    "    center : list or tuple\n",
    "    radius : float\n",
    "    sigma : float\n",
    "        standard deviation used in the gaussian filter for antialiasing\n",
    "\n",
    "    Returns\n",
    "    -------\n",
    "    img : array\n",
    "\n",
    "    \"\"\"\n",
    "\n",
    "    # handle cases where part of the circle is out of bounds\n",
    "    img_size = np.array([n/2*d for n,d in zip(img.shape,dI)])\n",
    "    max_radius = np.sqrt(np.sum(img_size**2))\n",
    "    if radius >= max_radius:\n",
    "        return img\n",
    "    else:\n",
    "        xI = [(np.arange(x) - (x-1)//2)*d for x,d in zip(img.shape,dI)]\n",
    "        XI = np.stack(np.meshgrid(*xI, indexing='ij'))\n",
    "        img[np.where(np.isclose(np.sqrt(XI[0]**2 + XI[1]**2), radius, atol=np.sqrt(dI[0]**2+dI[1]**2)/2))] = 1.0\n",
    "        img = gaussian_filter(img,sigma=(sigma/dI[0], sigma/dI[1]))\n",
    "        extent = (xI[1][0]-dI[1]/2, xI[1][-1]+dI[1]/2, xI[0][-1]+dI[0]/2, xI[0][0]-dI[0]/2)\n",
    "    return img, extent\n"
   ]
  },
  {
   "cell_type": "code",
   "execution_count": null,
   "metadata": {},
   "outputs": [],
   "source": [
    "img = np.zeros((20,100))\n",
    "\n",
    "circ, extent = circle(img, (5.0,1.0), radius=10.0, sigma=1.0)\n",
    "plt.figure()\n",
    "plt.imshow(circ, extent=extent)"
   ]
  },
  {
   "cell_type": "code",
   "execution_count": null,
   "metadata": {},
   "outputs": [],
   "source": [
    "derivative_sigmas = np.arange(start=0.25, stop=6.0,step=0.25)\n",
    "tensor_sigmas = np.arange(start=0.25, stop=6.0,step=0.25)\n",
    "anisotropy = [(200,200),(100,200),(67,200),(50,200),(40,200),(34,200),(28,200),(25,200),(22,200),(20,200)]\n",
    "d = 8\n",
    "t = 3\n",
    "a = 3\n",
    "err_type = 'pixelwise'\n",
    "error = sta_validate.phantom_test(derivative_sigmas[d], tensor_sigmas[t], anisotropy[a], period=20, noise=0.0, width=4, phantom='circles', err_type=err_type, display=True) # , grid_thetas=(-np.pi/6,np.pi/3)\n",
    "print(f'{err_type} error: {error}')"
   ]
  },
  {
   "cell_type": "code",
   "execution_count": null,
   "metadata": {},
   "outputs": [],
   "source": [
    "# derivative_sigmas = np.arange(start=2.0, stop=22.0,step=2.0)\n",
    "# tensor_sigmas = np.arange(start=2.0, stop=22.0,step=2.0)\n",
    "derivative_sigmas = np.arange(start=0.25, stop=1.75,step=0.5)\n",
    "tensor_sigmas = np.arange(start=0.25, stop=1.75,step=0.5)\n",
    "anisotropy = [(200,200),(100,200),(67,200)] #,(50,200),(40,200),(34,200),(28,200),(25,200),(22,200),(20,200)]\n",
    "errors = sta_validate.run_tests(derivative_sigmas=derivative_sigmas, tensor_sigmas=tensor_sigmas, nIs=anisotropy, periods=12, widths=1, noises=0.0, phantom='grid', err_type='pixelwise', grid_thetas=(-np.pi/6, np.pi/3), dim=2)\n",
    "print(errors)"
   ]
  },
  {
   "cell_type": "code",
   "execution_count": null,
   "metadata": {},
   "outputs": [],
   "source": [
    "I, labels, extent = sta_validate.parallel_lines_2d(thetas=[np.pi/3,-np.pi/6], nI=(100,100), period=8, width=1, noise=0.0)\n",
    "plt.figure()\n",
    "plt.imshow(I, extent=extent)\n",
    "plt.figure()\n",
    "plt.imshow(labels, extent=extent)\n"
   ]
  },
  {
   "cell_type": "code",
   "execution_count": null,
   "metadata": {},
   "outputs": [],
   "source": [
    "S = histology.structure_tensor(I, derivative_sigma=0.5, tensor_sigma=1.0, dI=(1.0,1.0))\n",
    "angles = histology.angles(S)[0]\n",
    "# odf, mu, kappa = histology.odf2d_vonmises(angles, nbins=100, tile_size=250, n_components=3, verbose=True)"
   ]
  },
  {
   "cell_type": "code",
   "execution_count": null,
   "metadata": {},
   "outputs": [],
   "source": [
    "odf, sample_points = histology.odf2d(angles, nbins=100, tile_size=100, damping=0.1)\n",
    "print(odf.shape)"
   ]
  },
  {
   "cell_type": "code",
   "execution_count": null,
   "metadata": {},
   "outputs": [],
   "source": [
    "# compare odf to the ground truth distribution using jenson-shannon divergence.\n",
    "# the ground truth is a distribution of delta functions at the angles of the lines.\n",
    "grid_thetas=[np.pi/3,-np.pi/6]\n",
    "thetas_symmetric = np.concatenate((grid_thetas, np.array(grid_thetas) + np.pi))\n",
    "thetas_symmetric = np.where(thetas_symmetric > np.pi, thetas_symmetric - 2*np.pi, thetas_symmetric)\n",
    "print(f'thetas = {thetas_symmetric}')\n",
    "ground_truth = np.zeros(odf.shape[-1])\n",
    "ground_truth[np.digitize(thetas_symmetric, sample_points)] = 1.0 / len(thetas_symmetric)\n",
    "# ground_truth = gaussian_filter(ground_truth, sigma=1)\n",
    "js = np.apply_along_axis(lambda a: scipy.spatial.distance.jensenshannon(a, ground_truth), axis=-1, arr=odf)\n",
    "error = np.mean(js)\n",
    "\n",
    "plt.figure()\n",
    "plt.plot(sample_points, ground_truth)\n",
    "\n",
    "plt.figure()\n",
    "plt.plot(sample_points, odf[0,0])\n",
    "\n",
    "print(f'jensen-shannon divergence: {js[0,0]}')\n",
    "# ground_truth = np.zeros(odf.shape[-1])\n",
    "# thetas_=[np.pi/3,-np.pi/6, np.pi/3-np.pi, -np.pi/6+np.pi]\n",
    "# # ground_truth[np.argmin(np.abs(sample_points[:,None]-np.array(thetas_)[None]))] = 1.0 / len(thetas_)\n",
    "# ground_truth[np.digitize(thetas_, sample_points)] = 1.0 / len(thetas_)\n",
    "# ground_truth = gaussian_filter1d(ground_truth, sigma=1.0)"
   ]
  },
  {
   "cell_type": "code",
   "execution_count": null,
   "metadata": {},
   "outputs": [],
   "source": [
    "# display angles\n",
    "plt.figure()\n",
    "plt.imshow(angles)#, extent=extent)\n",
    "plt.figure()\n",
    "plt.hist(angles[~np.isnan(angles)].flatten(), bins=100)\n",
    "plt.show()"
   ]
  },
  {
   "cell_type": "code",
   "execution_count": null,
   "metadata": {},
   "outputs": [],
   "source": [
    "# odf, mu, kappa, pi = histology.odf2d_vonmises(angles, nbins=100, tile_size=250, n_components=2, verbose=True)\n",
    "# print('mu = ', mu)\n",
    "# print('kappa = ', kappa)\n",
    "# print('pi = ', pi)"
   ]
  },
  {
   "cell_type": "code",
   "execution_count": null,
   "metadata": {},
   "outputs": [],
   "source": [
    "odf, sample_points = histology.odf2d(angles, nbins=100, tile_size=25)\n",
    "odf_peaks = np.apply_along_axis(lambda a: scipy.signal.find_peaks(a, prominence=0.005)[0], axis=-1, arr=odf)\n",
    "# take only angles in the range -pi/2, pi/2\n",
    "peaks = np.apply_along_axis(lambda a: [p for p in sample_points[a] if p >= -np.pi/2 and p <= np.pi/2 ], axis=-1, arr=odf_peaks)\n",
    "thetas=[np.pi/3,-np.pi/6]\n",
    "# assert peaks.shape[-1] == len(thetas), 'number of peaks detected does not equal the number of angles in the image'\n",
    "# err = []\n",
    "# for thetas_perm in list(itertools.permutations(thetas)):\n",
    "#     err.append(np.sum(np.abs(peaks - thetas_perm), axis=-1) / len(thetas))\n",
    "# err = err[np.argmin([np.sum(x) for x in err])]"
   ]
  },
  {
   "cell_type": "code",
   "execution_count": null,
   "metadata": {},
   "outputs": [],
   "source": [
    "diff = np.sum(np.abs(peaks - thetas), axis=-1) / len(thetas)\n",
    "diff.shape"
   ]
  },
  {
   "cell_type": "code",
   "execution_count": null,
   "metadata": {},
   "outputs": [],
   "source": [
    "avg_diff = np.sum(np.abs(peaks - thetas)) / np.prod(peaks.shape)\n",
    "print(avg_diff)"
   ]
  },
  {
   "cell_type": "code",
   "execution_count": null,
   "metadata": {},
   "outputs": [],
   "source": [
    "print(angles.shape)\n",
    "tile_size = 250\n",
    "nbins = 100\n",
    "damping = 0.1\n",
    "i, j = [x//tile_size for x in angles.shape]\n",
    "theta = np.array(angles[:i*tile_size,:j*tile_size]) # crop so theta divides evenly into tile_size (must create a new array to change stride lengths too.)\n",
    "# reshape into tiles by manipulating strides. (np.reshape preserves contiguity of elements, which we don't want in this case)\n",
    "nbits = theta.strides[-1]\n",
    "theta = np.lib.stride_tricks.as_strided(theta, shape=(i,j,tile_size,tile_size), strides=(tile_size*theta.shape[1]*nbits,tile_size*nbits,theta.shape[1]*nbits,nbits))\n",
    "theta = theta.reshape(i,j,tile_size**2)\n",
    "theta_flip = theta - np.pi\n",
    "theta_flip = np.where(theta_flip < -1*np.pi, theta_flip + 2*np.pi, theta_flip)\n",
    "theta = np.concatenate((theta,theta_flip), axis=-1)\n",
    "print('fitting to fourier series...')\n",
    "odf = np.apply_along_axis(lambda a: np.histogram(a[~np.isnan(a)], bins=nbins, range=(-np.pi,np.pi))[0], axis=-1, arr=theta)\n",
    "step = 2*np.pi/nbins\n",
    "t = np.linspace(-np.pi+step/2, np.pi-step/2, nbins)\n",
    "odf_F = np.fft.rfft(odf)\n",
    "n = np.arange(odf_F.shape[-1])\n",
    "odf_F = odf_F * np.exp(-1*damping*n) # apply damping\n",
    "odf = np.fft.irfft(odf_F, nbins)\n",
    "odf = odf / np.sum(odf, axis=-1)[...,None] # normalize to make this a pdf"
   ]
  },
  {
   "cell_type": "code",
   "execution_count": null,
   "metadata": {},
   "outputs": [],
   "source": [
    "odf[0,0]"
   ]
  },
  {
   "cell_type": "code",
   "execution_count": null,
   "metadata": {},
   "outputs": [],
   "source": [
    "fig,ax = plt.subplots(subplot_kw={'projection':'polar'})\n",
    "ax.plot(t, odf[0,0])\n",
    "plt.show()\n",
    "odf_peaks = scipy.signal.find_peaks(odf[0,0], prominence=0.005)[0]\n",
    "# take only angles in the range -pi/2, pi/2\n",
    "peaks = [p for p in t[odf_peaks] if p >= -np.pi/2 and p <= np.pi/2 ]\n",
    "print(odf_peaks)\n",
    "print(peaks)\n"
   ]
  },
  {
   "cell_type": "code",
   "execution_count": null,
   "metadata": {},
   "outputs": [],
   "source": [
    "odf_ = np.concatenate((odf[0,0], odf[0,0]), axis=0)\n",
    "fig = plt.figure()\n",
    "ax = fig.add_subplot(111, projection='polar')\n",
    "ax.plot(np.linspace(-np.pi, np.pi, odf_.shape[0]), odf_)\n",
    "plt.show()\n",
    "\n"
   ]
  },
  {
   "cell_type": "code",
   "execution_count": null,
   "metadata": {},
   "outputs": [],
   "source": [
    "odf_.shape"
   ]
  },
  {
   "cell_type": "code",
   "execution_count": null,
   "metadata": {},
   "outputs": [],
   "source": [
    "nI=(200,200)\n",
    "dI=(nI[1]/nI[0],1.0)\n",
    "# xI = [(np.arange(n) - (n-1)/2)*d for n,d in zip(nI,dI)]\n",
    "# XI = np.stack(np.meshgrid(*xI,indexing='ij'),-1)\n",
    "start = -np.pi/2+np.pi/20\n",
    "stop = np.pi/2+np.pi/20\n",
    "step = (stop-start)/5\n",
    "thetas = np.arange(start=start, stop=stop, step=step)\n",
    "print('thetas',thetas*(180/np.pi))\n",
    "I, mask, labels, extentI = synthetic2d(thetas=thetas, nI=nI, dI=dI, width=2, blur=2.0, noise=0.05, mask_thresh=0.99)\n",
    "# circle_img, circle_mask, circle_labels, extent_circle = circle(20, nI=nI, dI=dI)\n",
    "print(f'shape: {I.shape}')\n",
    "fig,axs = plt.subplots(3)\n",
    "axs[0,].imshow(I, extent=extentI)\n",
    "axs[0].set_title('I')\n",
    "axs[1].imshow(labels)#,extent=extentI)\n",
    "axs[1].set_title('labels')\n",
    "axs[2].imshow(mask)\n",
    "axs[2].set_title('mask')\n",
    "# axs[0,1].imshow(circle_img,extent=extent_circle)\n",
    "# axs[0,1].set_title('circle')\n",
    "# axs[1,1].imshow(circle_labels, extent=extent_circle)\n",
    "# axs[1,1].set_title('circle labels')"
   ]
  },
  {
   "cell_type": "code",
   "execution_count": null,
   "metadata": {},
   "outputs": [],
   "source": [
    "nI=(50,200)\n",
    "dI=(nI[1]/nI[0],1.0)\n",
    "step = 10\n",
    "radii = np.arange(10,100+step,step=step)\n",
    "circle, circ_mask, circ_labels, circ_extent = synthetic_circle(radius=radii, nI=nI, dI=dI, width=2, blur=1.0) #, mask_thresh=0.2)\n",
    "fig,axs = plt.subplots(2)\n",
    "axs[0].imshow(circle, extent=circ_extent)\n",
    "axs[0].set_title('Circles')\n",
    "axs[1].imshow(circ_labels,extent=circ_extent)\n",
    "axs[1].set_title('Circle Labels')\n",
    "print(circle.shape)\n"
   ]
  },
  {
   "attachments": {},
   "cell_type": "markdown",
   "metadata": {},
   "source": [
    "## Anisotropy Corrected Circles"
   ]
  },
  {
   "cell_type": "code",
   "execution_count": null,
   "metadata": {},
   "outputs": [],
   "source": [
    "cirImageCorrected, cirMaskCorrected, cirLabelsCorrected, cirExtentCorrected = anisotropy_correction(circle,circ_mask,circ_labels,dI,direction='up')\n",
    "fig,axs = plt.subplots(2)\n",
    "axs[0].imshow(cirImageCorrected, extent=cirExtentCorrected)\n",
    "axs[0].set_title('Circles (Anisotropy Corrected)')\n",
    "axs[1].imshow(cirLabelsCorrected,extent=cirExtentCorrected)\n",
    "axs[1].set_title('Circle Labels (Anisotropy Corrected)')\n",
    "print(cirImageCorrected.shape)"
   ]
  },
  {
   "cell_type": "code",
   "execution_count": null,
   "metadata": {},
   "outputs": [],
   "source": [
    "use_sobel = False\n",
    "derivative_sigma = 6.0\n",
    "derivative_sigma = [derivative_sigma/dI[0],derivative_sigma/dI[1]]\n",
    "I = circle"
   ]
  },
  {
   "cell_type": "code",
   "execution_count": null,
   "metadata": {},
   "outputs": [],
   "source": [
    "if use_sobel:\n",
    "    Ix = sobel(I,1)/dI[1]\n",
    "else:\n",
    "    # Ix = correlate1d(I,np.array([-1,0,1])/2.0/dI[1],1)\n",
    "    # Ix = gaussian_filter(Ix,sigma=derivative_sigma)\n",
    "    Ix = gaussian_filter(I, sigma=derivative_sigma, order=[0,1]) / dI[1]\n",
    "\n",
    "if use_sobel:\n",
    "    Iy = sobel(I,0)/dI[0]\n",
    "else:\n",
    "    # Iy = correlate1d(I,np.array([-1,0,1])/2.0/dI[0],0)\n",
    "    # Iy = gaussian_filter(Iy,sigma=derivative_sigma)\n",
    "    Iy = gaussian_filter(I, sigma=derivative_sigma, order=[1,0]) / dI[0]\n",
    "\n",
    "norm = np.sqrt(Ix**2 + Iy**2)+np.finfo(float).eps\n",
    "Ix = Ix/norm\n",
    "Iy = Iy/norm\n",
    "\n",
    "fig,ax = plt.subplots()\n",
    "h = ax.imshow(Ix,extent=extentI)\n",
    "plt.colorbar(mappable=h)\n",
    "ax.set_title('Ix')\n",
    "\n",
    "fig,ax = plt.subplots()\n",
    "h = ax.imshow(Iy,extent=extentI)\n",
    "plt.colorbar(mappable=h)\n",
    "ax.set_title('Iy')\n"
   ]
  },
  {
   "cell_type": "code",
   "execution_count": null,
   "metadata": {},
   "outputs": [],
   "source": [
    "\n",
    "tensor_sigma = 4.0\n",
    "tensor_sigma = [tensor_sigma/dI[0],tensor_sigma/dI[1]]\n",
    "Ixx = gaussian_filter(Ix*Ix,sigma=tensor_sigma)\n",
    "fig,ax = plt.subplots()\n",
    "h = ax.imshow(Ixx,extent=extentI)\n",
    "plt.colorbar(mappable=h)\n",
    "ax.set_title('Ixx')\n",
    "\n",
    "Ixy = gaussian_filter(Ix*Iy,sigma=tensor_sigma)\n",
    "fig,ax = plt.subplots()\n",
    "h = ax.imshow(Ixy,extent=extentI)\n",
    "plt.colorbar(mappable=h)\n",
    "ax.set_title('Ixy')\n",
    "\n",
    "Iyy = gaussian_filter(Iy*Iy,sigma=tensor_sigma)\n",
    "fig,ax = plt.subplots()\n",
    "h = ax.imshow(Iyy,extent=extentI)\n",
    "plt.colorbar(mappable=h)\n",
    "ax.set_title('Iyy')\n",
    "\n"
   ]
  },
  {
   "cell_type": "code",
   "execution_count": null,
   "metadata": {},
   "outputs": [],
   "source": [
    "# note S is in XY order, so my glyphs should be too\n",
    "S = np.stack([1-Ixx,-Ixy,-Ixy,1-Iyy],-1)\n",
    "# S = np.stack([Ixx,Ixy,Ixy,Iyy],-1)\n",
    "S = S.reshape(S.shape[0],S.shape[1],2,2)\n",
    "w,v = np.linalg.eigh(S)\n",
    "# w = 1.0/w\n",
    "max_each_pixel = False\n",
    "if max_each_pixel:\n",
    "    w = w / np.max(w,-1,keepdims=True)\n",
    "else:\n",
    "    w = w / np.max(w)\n",
    "fig,ax = plt.subplots()\n",
    "ax.imshow(w[...,0],extent=extentI)\n",
    "fig,ax = plt.subplots()\n",
    "ax.imshow(w[...,1],extent=extentI)"
   ]
  },
  {
   "cell_type": "code",
   "execution_count": null,
   "metadata": {},
   "outputs": [],
   "source": [
    "wd = np.stack((np.sqrt(w[...,0]),np.zeros_like(w[...,0]),np.zeros_like(w[...,0]),np.sqrt(w[...,1])),-1).reshape(w.shape[0],w.shape[1],2,2)"
   ]
  },
  {
   "cell_type": "code",
   "execution_count": null,
   "metadata": {},
   "outputs": [],
   "source": [
    "sqrt = v@wd@v.transpose(0,1,3,2)"
   ]
  },
  {
   "cell_type": "code",
   "execution_count": null,
   "metadata": {},
   "outputs": [],
   "source": [
    "# get a circle\n",
    "scale = 1.0\n",
    "# scale = (np.max(w,-1)-np.min(w,-1))[...,None,None]*1.0\n",
    "# scale = (np.ones_like(w) / dI[::-1])[...,None]*2.5\n",
    "ntheta = 20\n",
    "thetas = np.arange(ntheta+1)/ntheta*2.0*np.pi\n",
    "q = np.stack((np.cos(thetas),np.sin(thetas)),0)\n",
    "\n",
    "glyphs = sqrt@q\n",
    "glyphs = glyphs*scale\n",
    "\n",
    "xI = [(np.arange(n) - (n-1)//2)*d for n,d in zip(nI,dI)]\n",
    "XI = np.stack(np.meshgrid(*xI,indexing='ij'),-1)\n",
    "\n",
    "glyphs = glyphs + XI[...,::-1,None] # flip row col to xy\n",
    "\n",
    "down = np.array([4,4])\n",
    "fig,ax = plt.subplots()\n",
    "ax.imshow(I,extent=extentI)\n",
    "for i in range(0,glyphs.shape[0],down[0]):\n",
    "    for j in range(0,glyphs.shape[1],down[1]):\n",
    "        ax.plot(glyphs[i,j,0],glyphs[i,j,1],color='k')"
   ]
  },
  {
   "cell_type": "code",
   "execution_count": null,
   "metadata": {},
   "outputs": [],
   "source": [
    "# angles = (histology.angles(S)[0] * np.pi - np.pi/2)*(180/np.pi)\n",
    "angles = histology.angles(S)[0]*(180/np.pi)\n",
    "diff = np.abs(angles - circ_labels)\n",
    "diff = np.where(diff>90.0,np.abs(180-diff),diff)\n",
    "fig,axs = plt.subplots(2,)\n",
    "axs[0].imshow(angles*circ_mask, extent=extentI)\n",
    "axs[0].set_title('angles')\n",
    "axs[1].imshow(diff*circ_mask,extent=extentI)\n",
    "axs[1].set_title('Error (degrees)')\n",
    "mean_error = np.sum(diff*circ_mask)/np.sum(circ_mask)\n",
    "print(f'mean_error: {mean_error}')"
   ]
  },
  {
   "attachments": {},
   "cell_type": "markdown",
   "metadata": {},
   "source": [
    "# Test with Radial Line Phantom\n"
   ]
  },
  {
   "attachments": {},
   "cell_type": "markdown",
   "metadata": {},
   "source": [
    "### set up parameters"
   ]
  },
  {
   "cell_type": "code",
   "execution_count": null,
   "metadata": {},
   "outputs": [],
   "source": [
    "derivative_sigmas = np.arange(start=2.0, stop=22.0,step=2.0)\n",
    "tensor_sigmas = np.arange(start=2.0, stop=22.0,step=2.0)\n",
    "anisotropy = [(200,200),(100,200),(67,200),(50,200),(40,200),(34,200),(28,200),(25,200),(22,200),(20,200)]\n",
    "start = -np.pi/2+np.pi/20\n",
    "stop = np.pi/2 + np.pi/20\n",
    "stepsize = (stop-start)/10\n",
    "line_angles = np.arange(start=start, stop=stop, step=stepsize)\n",
    "\n",
    "print(derivative_sigmas.shape,\n",
    "      tensor_sigmas.shape,\n",
    "      line_angles.shape)"
   ]
  },
  {
   "cell_type": "code",
   "execution_count": null,
   "metadata": {},
   "outputs": [],
   "source": [
    "blur = 2.0\n",
    "\n",
    "errors = np.zeros((len(line_angles), len(anisotropy), len(derivative_sigmas), len(tensor_sigmas)))\n",
    "\n",
    "for i,line_angle in enumerate(line_angles):\n",
    "    for j, nI in enumerate(anisotropy):\n",
    "        dI = (nI[1]/nI[0], 1.0)\n",
    "        I, mask,labels,extentI = synthetic2d(thetas=[line_angle], nI=nI, dI=dI, width=1, blur=blur, noise=0.05, mask_thresh=0.99)\n",
    "        for k,dsig in enumerate(derivative_sigmas):\n",
    "            for l,tsig in enumerate(tensor_sigmas):\n",
    "                derivative_sigma = [dsig/dI[0],dsig/dI[1]]\n",
    "                Ix = gaussian_filter(I, sigma=derivative_sigma, order=[0,1]) / dI[1]\n",
    "                Iy = gaussian_filter(I, sigma=derivative_sigma, order=[1,0]) / dI[0]\n",
    "                norm = np.sqrt(Ix**2 + Iy**2)+1e-5\n",
    "                Ix = Ix/norm\n",
    "                Iy = Iy/norm\n",
    "                tensor_sigma = [tsig/dI[0],tsig/dI[1]]\n",
    "                Ixx = gaussian_filter(Ix*Ix,sigma=tensor_sigma)\n",
    "                Ixy = gaussian_filter(Ix*Iy,sigma=tensor_sigma)\n",
    "                Iyy = gaussian_filter(Iy*Iy,sigma=tensor_sigma)\n",
    "                S = np.stack([1-Ixx,-Ixy,-Ixy,1-Iyy],-1)\n",
    "                S = S.reshape(S.shape[0],S.shape[1],2,2)\n",
    "                \n",
    "                angles = histology.angles(S)[0]*(180/np.pi)\n",
    "                diff = np.abs(angles - labels)\n",
    "                diff = np.where(diff>90.0,np.abs(180-diff),diff)\n",
    "                mean_error = np.sum(diff*mask)/np.sum(mask)\n",
    "\n",
    "                errors[i,j,k,l] = mean_error\n"
   ]
  },
  {
   "cell_type": "code",
   "execution_count": null,
   "metadata": {},
   "outputs": [],
   "source": [
    "errors.shape"
   ]
  },
  {
   "cell_type": "code",
   "execution_count": null,
   "metadata": {},
   "outputs": [],
   "source": [
    "avg_angle_err = np.sum(errors,axis=0)/errors.shape[0]\n",
    "fig,axs = plt.subplots(nrows=2,ncols=5,figsize=(16,8))\n",
    "plt.setp(axs, xticks=range(10),xticklabels=tensor_sigmas, yticks=range(10),yticklabels=derivative_sigmas)\n",
    "for i in range(10):\n",
    "    m = i//5\n",
    "    n = i%5\n",
    "    ax = axs[m,n]\n",
    "    # im = ax.imshow(np.sum(errors[i], axis=0)/errors[i].shape[0])\n",
    "    im = ax.imshow(avg_angle_err[i], vmin=0.0, vmax=45., cmap='jet')\n",
    "    ax.set_title(f'anisotropy {anisotropy[i]}')\n",
    "    ax.set_ylabel('derivative sigma')\n",
    "    # ax.xticks(labels=tensor_sigmas)\n",
    "    ax.set_xlabel('tensor sigma')\n",
    "    # ax.yticks(labels=derivative_sigmas)\n",
    "\n",
    "# fig, ax = plt.subplots(figsize=(10,10))\n",
    "# im = ax.imshow(np.sum(errors,axis=0)/errors.shape[0])\n",
    "# ax.set_title(f'angular error (degrees)')\n",
    "# ax.set_xlabel('derivative sigma')\n",
    "# ax.set_ylabel('tensor sigma')\n",
    "fig.subplots_adjust(right=0.8)\n",
    "cbar_ax = fig.add_axes([0.85, 0.15, 0.01, 0.7])\n",
    "fig.colorbar(im, cax=cbar_ax)\n",
    "plt.show()\n",
    "\n",
    "for a in range(len(anisotropy)):\n",
    "    # arr = np.sum(errors[a],axis=0)/errors[a].shape[0] # sum over line angles\n",
    "    arr = avg_angle_err[a]\n",
    "    min = np.nanargmin(arr)\n",
    "    if arr.ndim == 4:\n",
    "        min_i = min//(arr.shape[0]*arr.shape[1]*arr.shape[2])\n",
    "        min_j = (min - min_i*(arr.shape[0]*arr.shape[1]*arr.shape[2]))//(arr.shape[1]*arr.shape[2])\n",
    "        min_k = (min - min_i*(arr.shape[0]*arr.shape[1]*arr.shape[2]) - min_j*(arr.shape[1]*arr.shape[2]))//arr.shape[2]\n",
    "        min_l = (min - min_i*(arr.shape[0]*arr.shape[1]*arr.shape[2]) - min_j*(arr.shape[1]*arr.shape[2]) - min_k*arr.shape[2])\n",
    "        print(f'min idx: ({min_i},{min_j},{min_k},{min_l})')\n",
    "    elif arr.ndim == 3:\n",
    "        min_i = min//(arr.shape[0]*arr.shape[1])\n",
    "        min_j = (min - min_i*(arr.shape[0]*arr.shape[1]))//arr.shape[1]\n",
    "        min_k = (min - min_i*(arr.shape[0]*arr.shape[1]) - min_j*(arr.shape[1]))\n",
    "        print(f'min idx: ({min_i},{min_j},{min_k})')\n",
    "    elif arr.ndim == 2:\n",
    "        min_i = min//(arr.shape[0])\n",
    "        min_j = (min - min_i*(arr.shape[0]))\n",
    "        print(f'anisotropy={anisotropy[a]}; min idx: ({min_i},{min_j})')"
   ]
  },
  {
   "cell_type": "code",
   "execution_count": null,
   "metadata": {},
   "outputs": [],
   "source": [
    "AI_ratio = [np.round(a[1]/a[0], decimals=2) for a in anisotropy]\n",
    "print(AI_ratio)"
   ]
  },
  {
   "cell_type": "code",
   "execution_count": null,
   "metadata": {},
   "outputs": [],
   "source": [
    "# avg_angle_err = np.sum(errors,axis=0)/errors.shape[0]\n",
    "fig,axs = plt.subplots(nrows=1,ncols=1,figsize=(8,8))\n",
    "plt.setp(axs, xticks=range(10),xticklabels=AI_ratio, yticks=range(10), yticklabels=line_angles*(180/np.pi))\n",
    "\n",
    "im = axs.imshow(errors[...,3,5], vmin=0.0, vmax=11.)\n",
    "axs.set_title(f'angular error (degrees)')\n",
    "axs.set_xlabel('anisotropy')\n",
    "axs.set_ylabel('angle')\n",
    "\n",
    "fig.subplots_adjust(right=0.8)\n",
    "cbar_ax = fig.add_axes([0.85, 0.15, 0.05, 0.7])\n",
    "fig.colorbar(im, cax=cbar_ax)\n",
    "plt.show()\n"
   ]
  },
  {
   "attachments": {},
   "cell_type": "markdown",
   "metadata": {},
   "source": [
    "### plot error with anisotropy correction"
   ]
  },
  {
   "cell_type": "code",
   "execution_count": null,
   "metadata": {},
   "outputs": [],
   "source": [
    "blur = 2.0\n",
    "\n",
    "errors_corrected = np.zeros((len(line_angles), len(anisotropy), len(derivative_sigmas), len(tensor_sigmas)))\n",
    "\n",
    "for i,line_angle in enumerate(line_angles):\n",
    "    for j, nI in enumerate(anisotropy):\n",
    "        dI = (nI[1]/nI[0], 1.0)\n",
    "        I, mask,labels,extentI = synthetic2d(thetas=[line_angle], nI=nI, dI=dI, width=1, blur=blur, noise=0.05, mask_thresh=0.99)\n",
    "        I_corrected, mask_corrected, labels_corrected, extentI_corrected = anisotropy_correction(I, mask, labels, dI, direction='up', interpolation=cv2.INTER_LINEAR)\n",
    "        dI_iso = dI[1]\n",
    "        for k,dsig in enumerate(derivative_sigmas):\n",
    "            for l,tsig in enumerate(tensor_sigmas):\n",
    "                derivative_sigma = [dsig/dI_iso,dsig/dI_iso]\n",
    "                # derivative_sigma = [dsig/dI[0], dsig/dI[1]]\n",
    "                Ix = gaussian_filter(I_corrected, sigma=derivative_sigma, order=[0,1]) / dI_iso # dI[1]\n",
    "                Iy = gaussian_filter(I_corrected, sigma=derivative_sigma, order=[1,0]) / dI_iso # dI[0]\n",
    "                norm = np.sqrt(Ix**2 + Iy**2)\n",
    "                Ix = Ix/norm\n",
    "                Iy = Iy/norm\n",
    "                tensor_sigma = [tsig/dI_iso,tsig/dI_iso]\n",
    "                # tensor_sigma = [tsig/dI[0], tsig/dI[1]]\n",
    "                Ixx = gaussian_filter(Ix*Ix,sigma=tensor_sigma)\n",
    "                Ixy = gaussian_filter(Ix*Iy,sigma=tensor_sigma)\n",
    "                Iyy = gaussian_filter(Iy*Iy,sigma=tensor_sigma)\n",
    "                S = np.stack([1-Ixx,-Ixy,-Ixy,1-Iyy],-1)\n",
    "                S = S.reshape(S.shape[0],S.shape[1],2,2)\n",
    "                \n",
    "                angles = histology.angles(S)[0]*(180/np.pi)\n",
    "                diff = np.abs(angles - labels_corrected)\n",
    "                diff = np.where(diff>90.0,np.abs(180-diff),diff)\n",
    "                mean_error = np.sum(diff*mask_corrected)/np.sum(mask_corrected)\n",
    "\n",
    "                errors_corrected[i,j,k,l] = mean_error"
   ]
  },
  {
   "cell_type": "code",
   "execution_count": null,
   "metadata": {},
   "outputs": [],
   "source": [
    "avg_angle_err = np.sum(errors_corrected,axis=0)/errors_corrected.shape[0]\n",
    "fig,axs = plt.subplots(nrows=2,ncols=5,figsize=(16,8))\n",
    "plt.setp(axs, xticks=range(10),xticklabels=tensor_sigmas, yticks=range(10),yticklabels=derivative_sigmas)\n",
    "for i in range(10):\n",
    "    m = i//5\n",
    "    n = i%5\n",
    "    ax = axs[m,n]\n",
    "    # im = ax.imshow(np.sum(errors[i], axis=0)/errors[i].shape[0])\n",
    "    im = ax.imshow(avg_angle_err[i], vmin=0.0, vmax=45., cmap='jet')\n",
    "    ax.set_title(f'anisotropy {anisotropy[i]}')\n",
    "    ax.set_ylabel('derivative sigma')\n",
    "    ax.set_xlabel('tensor sigma')\n",
    "\n",
    "# fig, ax = plt.subplots(figsize=(10,10))\n",
    "# im = ax.imshow(np.sum(errors,axis=0)/errors.shape[0])\n",
    "# ax.set_title(f'angular error (degrees)')\n",
    "# ax.set_xlabel('derivative sigma')\n",
    "# ax.set_ylabel('tensor sigma')\n",
    "fig.subplots_adjust(right=0.8)\n",
    "cbar_ax = fig.add_axes([0.85, 0.15, 0.01, 0.7])\n",
    "fig.colorbar(im, cax=cbar_ax)\n",
    "plt.show()\n",
    "\n",
    "for a in range(len(anisotropy)):\n",
    "    # arr = np.sum(errors[a],axis=0)/errors[a].shape[0] # sum over line angles\n",
    "    arr = avg_angle_err[a]\n",
    "    min = np.nanargmin(arr)\n",
    "    if arr.ndim == 4:\n",
    "        min_i = min//(arr.shape[0]*arr.shape[1]*arr.shape[2])\n",
    "        min_j = (min - min_i*(arr.shape[0]*arr.shape[1]*arr.shape[2]))//(arr.shape[1]*arr.shape[2])\n",
    "        min_k = (min - min_i*(arr.shape[0]*arr.shape[1]*arr.shape[2]) - min_j*(arr.shape[1]*arr.shape[2]))//arr.shape[2]\n",
    "        min_l = (min - min_i*(arr.shape[0]*arr.shape[1]*arr.shape[2]) - min_j*(arr.shape[1]*arr.shape[2]) - min_k*arr.shape[2])\n",
    "        print(f'min idx: ({min_i},{min_j},{min_k},{min_l})')\n",
    "    elif arr.ndim == 3:\n",
    "        min_i = min//(arr.shape[0]*arr.shape[1])\n",
    "        min_j = (min - min_i*(arr.shape[0]*arr.shape[1]))//arr.shape[1]\n",
    "        min_k = (min - min_i*(arr.shape[0]*arr.shape[1]) - min_j*(arr.shape[1]))\n",
    "        print(f'min idx: ({min_i},{min_j},{min_k})')\n",
    "    elif arr.ndim == 2:\n",
    "        min_i = min//(arr.shape[0])\n",
    "        min_j = (min - min_i*(arr.shape[0]))\n",
    "        print(f'anisotropy={anisotropy[a]}; min idx: ({min_i},{min_j})')"
   ]
  },
  {
   "cell_type": "code",
   "execution_count": null,
   "metadata": {},
   "outputs": [],
   "source": [
    "# avg_angle_err = np.sum(errors,axis=0)/errors.shape[0]\n",
    "fig,axs = plt.subplots(nrows=1,ncols=1,figsize=(8,8))\n",
    "plt.setp(axs, xticks=range(10),xticklabels=AI_ratio, yticks=range(10), yticklabels=line_angles*(180/np.pi))\n",
    "\n",
    "im = axs.imshow(errors_corrected[...,3,5], vmin=0.0, vmax=11.)\n",
    "axs.set_title(f'angular error (degrees)')\n",
    "axs.set_xlabel('anisotropy')\n",
    "axs.set_ylabel('angle')\n",
    "\n",
    "fig.subplots_adjust(right=0.8)\n",
    "cbar_ax = fig.add_axes([0.85, 0.15, 0.05, 0.7])\n",
    "fig.colorbar(im, cax=cbar_ax)\n",
    "plt.show()\n"
   ]
  },
  {
   "attachments": {},
   "cell_type": "markdown",
   "metadata": {},
   "source": [
    "# Test with Concentric Circles Phantom"
   ]
  },
  {
   "cell_type": "code",
   "execution_count": null,
   "metadata": {},
   "outputs": [],
   "source": [
    "derivative_sigmas = np.arange(start=2.0, stop=22.0,step=2.0)\n",
    "tensor_sigmas = np.arange(start=2.0, stop=22.0,step=2.0)\n",
    "anisotropy = [(200,200),(100,200),(67,200),(50,200),(40,200),(34,200),(28,200),(25,200),(22,200),(20,200)]\n",
    "start = 10\n",
    "stop = 100\n",
    "step = 10\n",
    "radii = np.arange(start,stop+step,step=step)\n",
    "\n",
    "print(derivative_sigmas.shape,\n",
    "      tensor_sigmas.shape,\n",
    "      radii.shape,\n",
    "      len(anisotropy))"
   ]
  },
  {
   "cell_type": "code",
   "execution_count": null,
   "metadata": {},
   "outputs": [],
   "source": [
    "blur = 1.0\n",
    "\n",
    "errors = np.zeros((len(anisotropy), len(derivative_sigmas), len(tensor_sigmas)))\n",
    "\n",
    "for i, nI in enumerate(anisotropy):\n",
    "    dI = (nI[1]/nI[0], 1.0)\n",
    "    I, mask,labels,extentI = synthetic_circle(radius=radii, nI=nI, dI=dI, width=2, blur=blur, noise=0.05)\n",
    "    for j,dsig in enumerate(derivative_sigmas):\n",
    "        for k,tsig in enumerate(tensor_sigmas):\n",
    "            derivative_sigma = [dsig/dI[0],dsig/dI[1]]\n",
    "            Ix = gaussian_filter(I, sigma=derivative_sigma, order=[0,1]) / dI[1]\n",
    "            Iy = gaussian_filter(I, sigma=derivative_sigma, order=[1,0]) / dI[0]\n",
    "            norm = np.sqrt(Ix**2 + Iy**2)+np.finfo(float).eps\n",
    "            Ix = Ix/norm\n",
    "            Iy = Iy/norm\n",
    "            tensor_sigma = [tsig/dI[0],tsig/dI[1]]\n",
    "            Ixx = gaussian_filter(Ix*Ix,sigma=tensor_sigma)\n",
    "            Ixy = gaussian_filter(Ix*Iy,sigma=tensor_sigma)\n",
    "            Iyy = gaussian_filter(Iy*Iy,sigma=tensor_sigma)\n",
    "            S = np.stack([1-Ixx,-Ixy,-Ixy,1-Iyy],-1)\n",
    "            S = S.reshape(S.shape[0],S.shape[1],2,2)\n",
    "            \n",
    "            angles = histology.angles(S)[0]*(180/np.pi)\n",
    "            diff = np.abs(angles - labels)\n",
    "            diff = np.where(diff>90.0,np.abs(180-diff),diff)\n",
    "            mean_error = np.sum(diff*mask)/np.sum(mask)\n",
    "\n",
    "            errors[i,j,k] = mean_error\n"
   ]
  },
  {
   "cell_type": "code",
   "execution_count": null,
   "metadata": {},
   "outputs": [],
   "source": [
    "fig,axs = plt.subplots(nrows=2,ncols=5,figsize=(16,8))\n",
    "plt.setp(axs, xticks=range(10),xticklabels=tensor_sigmas, yticks=range(10),yticklabels=derivative_sigmas)\n",
    "for i in range(10):\n",
    "    m = i//5\n",
    "    n = i%5\n",
    "    ax = axs[m,n]\n",
    "    im = ax.imshow(errors[i],vmin=0.0, vmax=52., cmap='jet')\n",
    "    # im = ax.imshow(avg_angle_err[i], vmin=0.0, vmax=45., cmap='jet')\n",
    "    ax.set_title(f'anisotropy {anisotropy[i]}')\n",
    "    ax.set_ylabel('derivative sigma')\n",
    "    # ax.xticks(labels=tensor_sigmas)\n",
    "    ax.set_xlabel('tensor sigma')\n",
    "    # ax.yticks(labels=derivative_sigmas)\n",
    "\n",
    "\n",
    "fig.subplots_adjust(right=0.8)\n",
    "cbar_ax = fig.add_axes([0.85, 0.15, 0.01, 0.7])\n",
    "fig.colorbar(im, cax=cbar_ax)\n",
    "plt.show()\n",
    "\n",
    "for a in range(len(anisotropy)):\n",
    "    # arr = np.sum(errors[a],axis=0)/errors[a].shape[0] # sum over line angles\n",
    "    arr = errors[a]\n",
    "    min = np.nanargmin(arr)\n",
    "    if arr.ndim == 4:\n",
    "        min_i = min//(arr.shape[0]*arr.shape[1]*arr.shape[2])\n",
    "        min_j = (min - min_i*(arr.shape[0]*arr.shape[1]*arr.shape[2]))//(arr.shape[1]*arr.shape[2])\n",
    "        min_k = (min - min_i*(arr.shape[0]*arr.shape[1]*arr.shape[2]) - min_j*(arr.shape[1]*arr.shape[2]))//arr.shape[2]\n",
    "        min_l = (min - min_i*(arr.shape[0]*arr.shape[1]*arr.shape[2]) - min_j*(arr.shape[1]*arr.shape[2]) - min_k*arr.shape[2])\n",
    "        print(f'min idx: ({min_i},{min_j},{min_k},{min_l})')\n",
    "    elif arr.ndim == 3:\n",
    "        min_i = min//(arr.shape[0]*arr.shape[1])\n",
    "        min_j = (min - min_i*(arr.shape[0]*arr.shape[1]))//arr.shape[1]\n",
    "        min_k = (min - min_i*(arr.shape[0]*arr.shape[1]) - min_j*(arr.shape[1]))\n",
    "        print(f'min idx: ({min_i},{min_j},{min_k})')\n",
    "    elif arr.ndim == 2:\n",
    "        min_i = min//(arr.shape[0])\n",
    "        min_j = (min - min_i*(arr.shape[0]))\n",
    "        print(f'anisotropy={anisotropy[a]}; min idx: ({min_i},{min_j})')"
   ]
  },
  {
   "cell_type": "code",
   "execution_count": null,
   "metadata": {},
   "outputs": [],
   "source": [
    "blur = 1.0\n",
    "\n",
    "errors = np.zeros((len(anisotropy), len(derivative_sigmas), len(tensor_sigmas)))\n",
    "\n",
    "for i, nI in enumerate(anisotropy):\n",
    "    dI = (nI[1]/nI[0], 1.0)\n",
    "    I, mask,labels,extentI = synthetic_circle(radius=radii, nI=nI, dI=dI, width=2, blur=blur, noise=0.05)\n",
    "    I_corrected, mask_corrected, labels_corrected, extentI_corrected = anisotropy_correction(I, mask, labels, dI, direction='up', interpolation=cv2.INTER_LINEAR)\n",
    "    dI_iso = dI[1]\n",
    "    for j,dsig in enumerate(derivative_sigmas):\n",
    "        for k,tsig in enumerate(tensor_sigmas):\n",
    "            derivative_sigma = [dsig/dI_iso,dsig/dI_iso]\n",
    "            Ix = gaussian_filter(I_corrected, sigma=derivative_sigma, order=[0,1]) / dI_iso\n",
    "            Iy = gaussian_filter(I_corrected, sigma=derivative_sigma, order=[1,0]) / dI_iso\n",
    "            norm = np.sqrt(Ix**2 + Iy**2)+np.finfo(float).eps\n",
    "            Ix = Ix/norm\n",
    "            Iy = Iy/norm\n",
    "            tensor_sigma = [tsig/dI_iso,tsig/dI_iso]\n",
    "            Ixx = gaussian_filter(Ix*Ix,sigma=tensor_sigma)\n",
    "            Ixy = gaussian_filter(Ix*Iy,sigma=tensor_sigma)\n",
    "            Iyy = gaussian_filter(Iy*Iy,sigma=tensor_sigma)\n",
    "            S = np.stack([1-Ixx,-Ixy,-Ixy,1-Iyy],-1)\n",
    "            S = S.reshape(S.shape[0],S.shape[1],2,2)\n",
    "            \n",
    "            angles = histology.angles(S)[0]*(180/np.pi)\n",
    "            diff = np.abs(angles - labels_corrected)\n",
    "            diff = np.where(diff>90.0,np.abs(180-diff),diff)\n",
    "            mean_error = np.sum(diff*mask_corrected)/np.sum(mask_corrected)\n",
    "\n",
    "            errors[i,j,k] = mean_error"
   ]
  },
  {
   "cell_type": "code",
   "execution_count": null,
   "metadata": {},
   "outputs": [],
   "source": [
    "fig,axs = plt.subplots(nrows=2,ncols=5,figsize=(16,8))\n",
    "plt.setp(axs, xticks=range(10),xticklabels=tensor_sigmas, yticks=range(10),yticklabels=derivative_sigmas)\n",
    "for i in range(10):\n",
    "    m = i//5\n",
    "    n = i%5\n",
    "    ax = axs[m,n]\n",
    "    im = ax.imshow(errors[i],vmin=0.0, vmax=52., cmap='jet')\n",
    "    # im = ax.imshow(avg_angle_err[i], vmin=0.0, vmax=45., cmap='jet')\n",
    "    ax.set_title(f'anisotropy {anisotropy[i]}')\n",
    "    ax.set_ylabel('derivative sigma')\n",
    "    # ax.xticks(labels=tensor_sigmas)\n",
    "    ax.set_xlabel('tensor sigma')\n",
    "    # ax.yticks(labels=derivative_sigmas)\n",
    "\n",
    "\n",
    "fig.subplots_adjust(right=0.8)\n",
    "cbar_ax = fig.add_axes([0.85, 0.15, 0.01, 0.7])\n",
    "fig.colorbar(im, cax=cbar_ax)\n",
    "plt.show()\n",
    "\n",
    "for a in range(len(anisotropy)):\n",
    "    # arr = np.sum(errors[a],axis=0)/errors[a].shape[0] # sum over line angles\n",
    "    arr = errors[a]\n",
    "    min = np.nanargmin(arr)\n",
    "    if arr.ndim == 4:\n",
    "        min_i = min//(arr.shape[0]*arr.shape[1]*arr.shape[2])\n",
    "        min_j = (min - min_i*(arr.shape[0]*arr.shape[1]*arr.shape[2]))//(arr.shape[1]*arr.shape[2])\n",
    "        min_k = (min - min_i*(arr.shape[0]*arr.shape[1]*arr.shape[2]) - min_j*(arr.shape[1]*arr.shape[2]))//arr.shape[2]\n",
    "        min_l = (min - min_i*(arr.shape[0]*arr.shape[1]*arr.shape[2]) - min_j*(arr.shape[1]*arr.shape[2]) - min_k*arr.shape[2])\n",
    "        print(f'min idx: ({min_i},{min_j},{min_k},{min_l})')\n",
    "    elif arr.ndim == 3:\n",
    "        min_i = min//(arr.shape[0]*arr.shape[1])\n",
    "        min_j = (min - min_i*(arr.shape[0]*arr.shape[1]))//arr.shape[1]\n",
    "        min_k = (min - min_i*(arr.shape[0]*arr.shape[1]) - min_j*(arr.shape[1]))\n",
    "        print(f'min idx: ({min_i},{min_j},{min_k})')\n",
    "    elif arr.ndim == 2:\n",
    "        min_i = min//(arr.shape[0])\n",
    "        min_j = (min - min_i*(arr.shape[0]))\n",
    "        print(f'anisotropy={anisotropy[a]}; min idx: ({min_i},{min_j})')"
   ]
  },
  {
   "cell_type": "code",
   "execution_count": null,
   "metadata": {},
   "outputs": [],
   "source": [
    "import pandas as pd\n",
    "\n",
    "df = pd.DataFrame({'anisotropy':[],'derivative_sigma':[],'tensor_sigma':[],'mean_error':[],'thetas':[]})\n",
    "print(df)\n",
    "data = {'anisotropy':[(200,200)],'derivative_sigma':1,'tensor_sigma':1,'mean_error':0, 'thetas':None}\n",
    "# concatenate dictionary, data,  to pandas dataframe, df.\n",
    "df = pd.concat([df, pd.DataFrame(data)], ignore_index=True)\n",
    "print(df)\n",
    "\n",
    "\n"
   ]
  },
  {
   "cell_type": "code",
   "execution_count": null,
   "metadata": {},
   "outputs": [],
   "source": []
  }
 ],
 "metadata": {
  "kernelspec": {
   "display_name": "Python 3.8.2 64-bit",
   "language": "python",
   "name": "python3"
  },
  "language_info": {
   "codemirror_mode": {
    "name": "ipython",
    "version": 3
   },
   "file_extension": ".py",
   "mimetype": "text/x-python",
   "name": "python",
   "nbconvert_exporter": "python",
   "pygments_lexer": "ipython3",
   "version": "3.11.3"
  },
  "vscode": {
   "interpreter": {
    "hash": "31f2aee4e71d21fbe5cf8b01ff0e069b9275f58929596ceb00d14d90e3e16cd6"
   }
  }
 },
 "nbformat": 4,
 "nbformat_minor": 4
}
