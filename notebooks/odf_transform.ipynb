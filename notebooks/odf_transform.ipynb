{
 "cells": [
  {
   "cell_type": "code",
   "execution_count": 62,
   "id": "a7fc5164",
   "metadata": {},
   "outputs": [],
   "source": [
    "import numpy as np\n",
    "import nibabel as nib\n",
    "import matplotlib.pyplot as plt\n",
    "from dipy.sims.voxel import multi_tensor, multi_tensor_odf\n",
    "from dipy.data import get_sphere\n",
    "from dipy.core.sphere import disperse_charges, Sphere, HemiSphere\n",
    "from dipy.reconst.shm import sh_to_sf_matrix\n",
    "from dipy.core.gradients import gradient_table\n",
    "from dipy.reconst.shm import CsaOdfModel, QballModel\n",
    "\n",
    "from fury import actor, window\n",
    "from IPython.core.display import Image\n",
    "from PIL import Image as PILImage\n",
    "\n",
    "import os\n",
    "import sys\n",
    "sys.path.insert(0,'..')\n",
    "from tqdm import tqdm"
   ]
  },
  {
   "cell_type": "code",
   "execution_count": 4,
   "id": "4fb42fc6",
   "metadata": {},
   "outputs": [],
   "source": [
    "J = np.load('/home/brysongray/outputs/fiber-analysis_outputs/hist_to_mri_jacobian.npy')\n",
    "disp = np.load('/home/brysongray/outputs/fiber-analysis_outputs/hist_to_mri_disp.npy')\n",
    "odfs = np.load('/home/brysongray/outputs/fiber-analysis_outputs/human_amyg_csd_odfs_patch-55.npy')\n",
    "sh = np.load('/home/brysongray/outputs/fiber-analysis_outputs/human_amyg_csd_shm_coeff_patch-55.npy')"
   ]
  },
  {
   "cell_type": "code",
   "execution_count": 5,
   "id": "43fd35a4",
   "metadata": {},
   "outputs": [],
   "source": [
    "# helper functions for visualization\n",
    "WINDOW_SIZE = (400, 400)\n",
    "SAVEIM_FOLDER = 'images'\n",
    "if not os.path.exists(SAVEIM_FOLDER):\n",
    "    os.mkdir(SAVEIM_FOLDER)\n",
    "\n",
    "def screenshot_animated_sf(sf, sphere, B=None, rot=True, norm=True, scale=True, title='Modeling', theta_step=30):\n",
    "    '''\n",
    "    Render a spherical function to file. Returns path to image.\n",
    "    '''\n",
    "    \n",
    "    scene = window.Scene()\n",
    "    scene.background(window.colors.white)\n",
    "    \n",
    "    sf_actor = actor.odf_slicer(sf[None, None, None, :],\n",
    "                               sphere=sphere, colormap='jet',\n",
    "                               norm=norm)#, radial_scale=scale)\n",
    "    \n",
    "#     sf_actor = actor.odf_slicer(sf,\n",
    "#                            sphere=sphere, colormap='jet',\n",
    "#                            norm=norm, B_matrix=B)#, radial_scale=scale)\n",
    "        \n",
    "    if rot:\n",
    "        sf_actor.RotateX(-90)\n",
    "#         sf_actor.RotateY(180)\n",
    "        sf_actor.RotateZ(180)\n",
    "    scene.add(sf_actor)\n",
    "    \n",
    "    images = []\n",
    "    n_frames = 360//theta_step\n",
    "    for i in np.arange(n_frames):\n",
    "#         sf_actor.RotateX(theta_step)\n",
    "#         sf_actor.RotateY(theta_step)\n",
    "        sf_actor.RotateZ(theta_step)\n",
    "        scene.reset_clipping_range()\n",
    "        images.append(PILImage.fromarray(window.snapshot(scene, size=WINDOW_SIZE)))\n",
    "        \n",
    "    frame_duration = 15000 // theta_step\n",
    "    filename = os.path.join(SAVEIM_FOLDER, '{0}.gif'.format(title))\n",
    "    images[0].save(filename, save_all=True, append_images=images[1:],\n",
    "                  duration=frame_duration, optimize=False, loop=0)\n",
    "    scene.clear()\n",
    "\n",
    "    return filename\n",
    "    \n",
    "def screenshot_gradients(sph_gtab, title='Modeling'):\n",
    "    scene = window.Scene()\n",
    "    scene.background(window.colors.white)\n",
    "\n",
    "    scene.add(actor.point(sph_gtab.vertices, window.colors.green, point_radius=0.05))\n",
    "\n",
    "    outfile = os.path.join(SAVEIM_FOLDER, '{0}.png'.format(title))\n",
    "    window.snapshot(scene, size=WINDOW_SIZE, fname=outfile)\n",
    "\n",
    "    scene.clear()\n",
    "    return outfile\n",
    "\n",
    "def display_slice(odfs, sphere, norm=True, B=None):\n",
    "    '''\n",
    "    odfs : odf field as spherical harmonics\n",
    "    B : spherical harmonic to spherical function matrix\n",
    "    sphere : dipy Sphere\n",
    "    norm : normalizes so the maximum ODF amplitude per voxel is 1\n",
    "    '''\n",
    "    scene = window.Scene()\n",
    "    scene.background(window.colors.white)\n",
    "    \n",
    "    sf_actor = actor.odf_slicer(odfs,\n",
    "                               sphere=sphere, colormap='jet',\n",
    "                               norm=norm, B_matrix=B)#, radial_scale=scale)\n",
    "    scene.add(sf_actor)\n",
    "    \n",
    "    window.show(scene, size=WINDOW_SIZE)\n",
    "    \n",
    "    return scene"
   ]
  },
  {
   "cell_type": "code",
   "execution_count": 34,
   "id": "e4abe280",
   "metadata": {},
   "outputs": [
    {
     "name": "stdout",
     "output_type": "stream",
     "text": [
      "[ 5.25406812e-02 -9.98618785e-01  6.12323400e-17]\n",
      "0.05254068121991737\n",
      "0.05254068121991737\n",
      "-0.9986187845303869\n",
      "-0.9986187845303869\n",
      "6.123233995736766e-17\n",
      "6.123233995736766e-17\n"
     ]
    }
   ],
   "source": [
    "sphere = get_sphere('symmetric724')\n",
    "print(sphere.vertices[0])\n",
    "print(sphere.x[0])\n",
    "print(np.sin(sphere.theta[0])*np.cos(sphere.phi[0]))\n",
    "print(sphere.y[0])\n",
    "print(np.sin(sphere.theta[0])*np.sin(sphere.phi[0]))\n",
    "print(sphere.z[0])\n",
    "print(np.cos(sphere.theta[0]))\n"
   ]
  },
  {
   "cell_type": "code",
   "execution_count": 48,
   "id": "59a56644",
   "metadata": {},
   "outputs": [
    {
     "data": {
      "text/plain": [
       "(110, 120, 724)"
      ]
     },
     "execution_count": 48,
     "metadata": {},
     "output_type": "execute_result"
    }
   ],
   "source": [
    "odfs.shape"
   ]
  },
  {
   "cell_type": "code",
   "execution_count": 49,
   "id": "fc2c3ad2",
   "metadata": {},
   "outputs": [
    {
     "data": {
      "text/plain": [
       "(293, 216, 270, 3, 3)"
      ]
     },
     "execution_count": 49,
     "metadata": {},
     "output_type": "execute_result"
    }
   ],
   "source": [
    "J.shape"
   ]
  },
  {
   "cell_type": "code",
   "execution_count": 50,
   "id": "17df76e0",
   "metadata": {},
   "outputs": [
    {
     "ename": "MemoryError",
     "evalue": "Unable to allocate 277. GiB for an array with shape (293, 216, 270, 724, 3) and data type float64",
     "output_type": "error",
     "traceback": [
      "\u001b[0;31m---------------------------------------------------------------------------\u001b[0m",
      "\u001b[0;31mMemoryError\u001b[0m                               Traceback (most recent call last)",
      "\u001b[0;32m/tmp/ipykernel_978727/3694489527.py\u001b[0m in \u001b[0;36m<module>\u001b[0;34m\u001b[0m\n\u001b[0;32m----> 1\u001b[0;31m \u001b[0mJvertices\u001b[0m \u001b[0;34m=\u001b[0m \u001b[0msphere\u001b[0m\u001b[0;34m.\u001b[0m\u001b[0mvertices\u001b[0m\u001b[0;34m[\u001b[0m\u001b[0;32mNone\u001b[0m\u001b[0;34m,\u001b[0m\u001b[0;32mNone\u001b[0m\u001b[0;34m,\u001b[0m\u001b[0;32mNone\u001b[0m\u001b[0;34m]\u001b[0m \u001b[0;34m@\u001b[0m \u001b[0mJ\u001b[0m\u001b[0;34m\u001b[0m\u001b[0;34m\u001b[0m\u001b[0m\n\u001b[0m",
      "\u001b[0;31mMemoryError\u001b[0m: Unable to allocate 277. GiB for an array with shape (293, 216, 270, 724, 3) and data type float64"
     ]
    }
   ],
   "source": [
    "Jvertices = sphere.vertices[None,None,None] @ J"
   ]
  },
  {
   "cell_type": "code",
   "execution_count": 61,
   "id": "b29983ef",
   "metadata": {},
   "outputs": [
    {
     "data": {
      "text/plain": [
       "(110, 120, 15)"
      ]
     },
     "execution_count": 61,
     "metadata": {},
     "output_type": "execute_result"
    }
   ],
   "source": [
    "sh.shape"
   ]
  },
  {
   "cell_type": "code",
   "execution_count": 22,
   "id": "5a83da0a",
   "metadata": {},
   "outputs": [
    {
     "data": {
      "text/plain": [
       "array([[-1.48985291,  0.52262584,  0.61682709],\n",
       "       [-0.03367662, -0.77712089,  0.52120405],\n",
       "       [ 0.29160976,  0.51220312,  0.73977835]])"
      ]
     },
     "execution_count": 22,
     "metadata": {},
     "output_type": "execute_result"
    }
   ],
   "source": [
    "print(sphere.theta.shape)\n",
    "print(sphere.phi.shape)"
   ]
  },
  {
   "cell_type": "code",
   "execution_count": 53,
   "id": "291336cf",
   "metadata": {},
   "outputs": [],
   "source": [
    "scale_factor = get_rescale(J[0,100,100],sphere)"
   ]
  },
  {
   "cell_type": "code",
   "execution_count": 55,
   "id": "2ddc0a0a",
   "metadata": {},
   "outputs": [],
   "source": [
    "odf_ = odfs[0,100,100]*scale_factor"
   ]
  },
  {
   "cell_type": "code",
   "execution_count": 60,
   "id": "33a3d3cb",
   "metadata": {},
   "outputs": [
    {
     "data": {
      "text/plain": [
       "(13200, 724)"
      ]
     },
     "execution_count": 60,
     "metadata": {},
     "output_type": "execute_result"
    }
   ],
   "source": [
    "odfs_flat = odfs.reshape(-1,odfs.shape[-1])\n",
    "odfs_flat.shape"
   ]
  },
  {
   "cell_type": "code",
   "execution_count": 52,
   "id": "b00104f8",
   "metadata": {},
   "outputs": [],
   "source": [
    "def cart_to_polar(X):\n",
    "    \n",
    "    x,y,z = X[..., :]\n",
    "    r = np.sqrt(x**2 + y**2 + z**2)\n",
    "    theta = np.arccos(z/r)\n",
    "    phi = np.arctan(y/x)\n",
    "    \n",
    "    P = np.stack((r,theta,phi),-1)\n",
    "    \n",
    "    return P\n",
    "\n",
    "def transform_odf(J, odf, sphere):\n",
    "\n",
    "    theta = sphere.theta\n",
    "    phi = sphere.phi\n",
    "    v_ = (sphere.vertices @ J).T\n",
    "    r_ = np.linalg.norm(v_)\n",
    "    x_, y_, z_ = v_\n",
    "    theta_ = np.arccos(z_/r_)\n",
    "    J_1 = np.stack((np.sin(theta)*np.cos(phi), np.cos(theta)*np.cos(phi), -np.sin(theta)*np.sin(phi),\n",
    "                    np.sin(theta)*np.sin(phi), np.cos(theta)*np.sin(phi), np.sin(theta)*np.cos(phi),\n",
    "                    np.cos(theta), -np.sin(theta), np.zeros(len(theta))), axis=-1).reshape((len(theta), 3, 3))\n",
    "    J_3 = np.stack((x_/r_, y_/r_, z_/r_,\n",
    "                    x_*z_/np.sqrt(x_**2 + y_**2*r_**2), y_*z_/np.sqrt(x_**2 + y_**2*r_**2), -np.sqrt(x_**2 + y_**2)/r_**2,\n",
    "                    -y_/(x_**2 + y_**2), x_/(x_**2 + y_**2), np.zeros(len(theta))), axis=-1).reshape((len(theta), 3, 3))\n",
    "    \n",
    "    J_polar = J_3 @ J @ J_1\n",
    "    scale_factor = np.sin(theta)/np.sin(theta_) * 1/np.abs(np.linalg.det(J_polar[...,1:,1:]))\n",
    "    odf_ = odf*scale_factor\n",
    "\n",
    "    return odf_, v_\n",
    "    \n",
    "\n",
    "def transform_sh_img(sh, J):\n",
    "    ''' Transform a spherical harmonic image by a Jacobian valued image\n",
    "    For algorithm details see:\n",
    "    \n",
    "    Hong, X., Arlinghaus, L. R., & Anderson, A. W. (2009).\n",
    "    Spatial normalization of the fiber orientation distribution based on high angular resolution diffusion imaging data.\n",
    "    Magnetic resonance in medicine, 61(6), 1520–1527. https://doi.org/10.1002/mrm.21916\n",
    "\n",
    "    Parameters\n",
    "    ----------\n",
    "    sh : spherical harmonics\n",
    "    J : Jacobian\n",
    "\n",
    "    Returns\n",
    "    -------\n",
    "    sh_transformed : spherical harmonic coefficients transformed by J\n",
    "    '''\n",
    "\n",
    "    degree = {1:0,\n",
    "            2:6,\n",
    "            15:4,\n",
    "            28:6,\n",
    "            45:8,\n",
    "            66:10,\n",
    "            91:12,\n",
    "            120:14}\n",
    "    n = degree[sh.shape[-1]]\n",
    "    print(f'spherical harmonic degree is {n}.')\n",
    "    arr_shape = sh.shape[:-1]\n",
    "    sh = sh.reshape(-1,sh.shape[-1])\n",
    "    J = J.reshape(-1,3,3)\n",
    "    sphere = get_sphere('symmetric362')\n",
    "    B, invB = sh_to_sf_matrix(sphere, n)\n",
    "    # transform each odf sequentially because of memory constraints\n",
    "    sh_transformed = np.zeros_like(sh)\n",
    "    for i in range(len(sh)):\n",
    "        # transform from spherical harmonics to spherical function\n",
    "        odf = np.dot(sh[i], B)\n",
    "        # transform vectors\n",
    "        odf, vertices = transform_odf(J[i], odf, sphere)\n",
    "        # transform back into spherical harmonics\n",
    "        B, invB = sh_to_sf_matrix(vertices, n)\n",
    "        sh_transformed[i] = np.dot(invB.T, odf)\n",
    "    sh_transformed = sh_transformed.reshape(arr_shape+sh.shape[-1])\n",
    "    \n",
    "    return sh_transformed"
   ]
  },
  {
   "cell_type": "code",
   "execution_count": 8,
   "id": "783754f1",
   "metadata": {},
   "outputs": [
    {
     "name": "stdout",
     "output_type": "stream",
     "text": [
      "odfs shape & dtype: (110, 120, 724), float64\n",
      "sphere.vertices shape & dtype: (724, 3), float64\n",
      "\n"
     ]
    }
   ],
   "source": [
    "print(f\"odfs shape & dtype: {odfs.shape}, {odfs.dtype}\")\n",
    "print(f\"sphere.vertices shape & dtype: {sphere.vertices.shape}, {sphere.vertices.dtype}\")\n",
    "print()"
   ]
  }
 ],
 "metadata": {
  "kernelspec": {
   "display_name": "Python 3 (ipykernel)",
   "language": "python",
   "name": "python3"
  },
  "language_info": {
   "codemirror_mode": {
    "name": "ipython",
    "version": 3
   },
   "file_extension": ".py",
   "mimetype": "text/x-python",
   "name": "python",
   "nbconvert_exporter": "python",
   "pygments_lexer": "ipython3",
   "version": "3.9.13"
  }
 },
 "nbformat": 4,
 "nbformat_minor": 5
}
