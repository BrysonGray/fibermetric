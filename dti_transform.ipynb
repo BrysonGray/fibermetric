{
 "cells": [
  {
   "cell_type": "markdown",
   "id": "6ea6dccb",
   "metadata": {},
   "source": [
    "# DTI Transformation"
   ]
  },
  {
   "cell_type": "code",
   "execution_count": 1,
   "id": "71d2e8e2",
   "metadata": {},
   "outputs": [],
   "source": [
    "dti_path = '/home/brysongray/data/dki/dki_tensor.nii.gz'\n",
    "v_path = '/home/brysongray/data/human_amyg/mri_avg_dwi_to_mri.vtk'"
   ]
  },
  {
   "cell_type": "code",
   "execution_count": null,
   "id": "ba98ae6d",
   "metadata": {},
   "outputs": [],
   "source": [
    "# load dti\n",
    "import tensor_field_transform\n"
   ]
  }
 ],
 "metadata": {
  "kernelspec": {
   "display_name": "Python 3 (ipykernel)",
   "language": "python",
   "name": "python3"
  },
  "language_info": {
   "codemirror_mode": {
    "name": "ipython",
    "version": 3
   },
   "file_extension": ".py",
   "mimetype": "text/x-python",
   "name": "python",
   "nbconvert_exporter": "python",
   "pygments_lexer": "ipython3",
   "version": "3.9.7"
  }
 },
 "nbformat": 4,
 "nbformat_minor": 5
}
